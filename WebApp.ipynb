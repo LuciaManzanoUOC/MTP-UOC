{
  "nbformat": 4,
  "nbformat_minor": 0,
  "metadata": {
    "colab": {
      "name": "WebApp.ipynb",
      "provenance": [],
      "collapsed_sections": [],
      "authorship_tag": "ABX9TyOVYU3NbiXlBhIg5Z13wQ4n",
      "include_colab_link": true
    },
    "kernelspec": {
      "name": "python3",
      "display_name": "Python 3"
    },
    "language_info": {
      "name": "python"
    }
  },
  "cells": [
    {
      "cell_type": "markdown",
      "metadata": {
        "id": "view-in-github",
        "colab_type": "text"
      },
      "source": [
        "<a href=\"https://colab.research.google.com/github/LuciaManzanoUOC/MTP-UOC/blob/main/WebApp.ipynb\" target=\"_parent\"><img src=\"https://colab.research.google.com/assets/colab-badge.svg\" alt=\"Open In Colab\"/></a>"
      ]
    },
    {
      "cell_type": "markdown",
      "source": [
        ""
      ],
      "metadata": {
        "id": "s-u0i8IIzTfh"
      }
    },
    {
      "cell_type": "code",
      "execution_count": null,
      "metadata": {
        "id": "JVQsVHJDzQLm"
      },
      "outputs": [],
      "source": [
        "# MTP UOC Lucia Manzano, 2022\n",
        "\n",
        "import numpy as np\n",
        "import streamlit as st\n",
        "import tensorflow as tf\n",
        "import cv2\n",
        "from PIL import Image, ImageOps\n",
        "from keras import models  \n",
        "from tensorflow.keras.preprocessing import image\n",
        "from tensorflow.keras.applications.resnet import preprocess_input\n",
        "\n",
        "def import_and_predict(image_data, model):\n",
        "    \n",
        "        size = (224,224)    \n",
        "        image_data = ImageOps.fit(image_data, size, Image.ANTIALIAS)\n",
        "        #image_data = image_data.convert('RGB')\n",
        "        image_data = np.asarray(image_data)\n",
        "        #image_data = (image_data.astype(np.float32) / 255.0)\n",
        "\n",
        "        img_batch = np.expand_dims(image_data, axis=0)\n",
        "        img_preprocessed = preprocess_input(img_batch)\n",
        "\n",
        "        prediction = model.predict(img_preprocessed)\n",
        "        \n",
        "        return prediction\n",
        "\n",
        "model = tf.keras.models.load_model('general_model.h5')\n",
        "\n",
        "st.write(\"\"\"\n",
        "         # Mind The Mole!\n",
        "         \"\"\"\n",
        "         )\n",
        "st.write(\"\"\"\n",
        "         ## Automatic melanoma diagnosis\n",
        "         \"\"\"\n",
        "         )\n",
        "\n",
        "st.write(\"This is the final Master's Thesis for the Universitat Oberta de Catalunya (UOC). Developed by Lucia Reyes Manzano Gomez, 2022. Please contact lucia.manzano @ uoc.edu\")\n",
        "\n",
        "st.write(\"Please write your phototype. If unknown, leave this field blank.\")\n",
        "\n",
        "image_photo = Image.open('phototypes.png')\n",
        "st.image(image_photo, use_column_width=True)\n",
        "\n",
        "phototype_input = st.selectbox(\"Select phototype: \",\n",
        "                     ['Unknown', 'I', 'II', 'III', 'IV', 'V', 'VI'])\n",
        "\n",
        "file = st.file_uploader(\"Please upload an image of a mole. For better results, take a picture as close to the mole as possible with high quality.\", type=[\"jpg\", \"jpeg\"])\n",
        "#\n",
        "if file is None:\n",
        "    st.write(\"You haven't uploaded an image file yet.\")\n",
        "else:\n",
        "    image = Image.open(file)\n",
        "    st.image(image, use_column_width=True)\n",
        "\n",
        "    if phototype_input == 'I' or phototype_input == 'II' or phototype_input == 'III':\n",
        "        model = tf.keras.models.load_model('specific_model_I_II_III.h5')\n",
        "    elif phototype_input == 'IV' or phototype_input == 'V' or phototype_input == 'VI':\n",
        "        st.write(\"Estimated diagnosis: MELANOMA.\")\n",
        "        model = tf.keras.models.load_model('specific_model_IV_V_VI.h5')\n",
        "    else:\n",
        "        model = model\n",
        "\n",
        "    prediction = import_and_predict(image, model)\n",
        "    \n",
        "    if phototype_input == 'Unknown':\n",
        "        st.write(\"No phototype has been selected.\")\n",
        "    else:\n",
        "        st.write(\"You have selected phototype \", phototype_input)\n",
        "\n",
        "    if prediction >= 0:\n",
        "        st.success(\"Estimated diagnosis: BENINGNANT.\")\n",
        "        st.write(\"Your mole is benign. Please confirm this diagnosis with your doctor.\")\n",
        "    elif prediction < 0:\n",
        "        st.error(\"Estimated diagnosis: MELANOMA.\")\n",
        "        st.write(\"Your mole is malignant and it could be a melanoma. Please confirm this diagnosis with your doctor.\")\n",
        "    else:\n",
        "        st.warning(\"Error. Please try again or contact the administrator.\")\n",
        "    \n",
        "    st.write(\"Please consider that this information is approximated.\")\n",
        "    st.write(\"This website only detect melanomas but there are more types of skin cancer.\")\n",
        "    st.write(\"Visit your doctor to do a skin checkup for confirmation.\")"
      ]
    }
  ]
}